{
 "cells": [
  {
   "cell_type": "code",
   "execution_count": null,
   "id": "401820fd",
   "metadata": {},
   "outputs": [],
   "source": [
    "from mpl_toolkits import mplot3d\n",
    "import numpy as np\n",
    "import matplotlib.pyplot as plt\n",
    "import math"
   ]
  },
  {
   "cell_type": "code",
   "execution_count": null,
   "id": "af93abfd",
   "metadata": {},
   "outputs": [],
   "source": [
    "# funkcja 3 - (x-2)^2 - (y-4)^2\n",
    "# dla niej maksimu jest w punkcie (2,4)\n",
    "def f(x,y):\n",
    "    z = 3 - (x-2)**2 - (y-4)**2\n",
    "    return z\n",
    "#pochodne cząstkowe\n",
    "def pfx(w):\n",
    "    a = (-2)*w[0] + 4\n",
    "    return a\n",
    "def pfy(w):\n",
    "    a = (-2)*w[1] + 8\n",
    "    return a"
   ]
  },
  {
   "cell_type": "code",
   "execution_count": null,
   "id": "da4bf672",
   "metadata": {
    "scrolled": true
   },
   "outputs": [],
   "source": [
    "# Dane\n",
    "x = np.linspace(0, 4, 100)\n",
    "y = np.linspace(2, 6, 100)\n",
    "X, Y = np.meshgrid(x, y)\n",
    "Z = f(X,Y)"
   ]
  },
  {
   "cell_type": "code",
   "execution_count": null,
   "id": "0438f095",
   "metadata": {},
   "outputs": [],
   "source": [
    "def euk(w): #długość wektora\n",
    "    return math.sqrt(sum(i**2 for i in w))\n",
    "\n",
    "def maksimum(fun,pfx,pfy,w0):\n",
    "    x0 = pfx(w0)\n",
    "    y0 = pfy(w0)\n",
    "    w = np.array([x0,y0])\n",
    "    while euk(w) > 0.2:\n",
    "        w[0] = pfx(w0)\n",
    "        w[1] = pfy(w0)\n",
    "        w0 += w\n",
    "    return w0"
   ]
  },
  {
   "cell_type": "code",
   "execution_count": null,
   "id": "47a44373",
   "metadata": {},
   "outputs": [],
   "source": [
    "w0 = np.array([3,0])\n",
    "maksimum(f,pfx,pfy,w0)"
   ]
  },
  {
   "cell_type": "code",
   "execution_count": null,
   "id": "9dae2870",
   "metadata": {},
   "outputs": [],
   "source": [
    "#Rysowanie\n",
    "fig = plt.figure()\n",
    "ax = plt.axes(projection='3d')\n",
    "ax.set_xlabel('x')\n",
    "ax.set_ylabel('y')\n",
    "ax.set_zlabel('z')\n",
    "ax.contour3D(X, Y, Z, 50, cmap='binary')\n",
    "tpl.savefig('analiza_wyk.pdf')\n",
    "ax.view_init(50, 60) #Kąt pod jakim patrzymy"
   ]
  }
 ],
 "metadata": {
  "kernelspec": {
   "display_name": "Python 3 (ipykernel)",
   "language": "python",
   "name": "python3"
  },
  "language_info": {
   "codemirror_mode": {
    "name": "ipython",
    "version": 3
   },
   "file_extension": ".py",
   "mimetype": "text/x-python",
   "name": "python",
   "nbconvert_exporter": "python",
   "pygments_lexer": "ipython3",
   "version": "3.9.12"
  }
 },
 "nbformat": 4,
 "nbformat_minor": 5
}
